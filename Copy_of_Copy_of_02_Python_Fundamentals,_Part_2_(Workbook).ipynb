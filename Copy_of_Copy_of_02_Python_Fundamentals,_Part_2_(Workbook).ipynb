{
  "cells": [
    {
      "cell_type": "markdown",
      "metadata": {
        "id": "view-in-github",
        "colab_type": "text"
      },
      "source": [
        "<a href=\"https://colab.research.google.com/github/Bimaks/ICT-110-PRACTICE/blob/master/Copy_of_Copy_of_02_Python_Fundamentals%2C_Part_2_(Workbook).ipynb\" target=\"_parent\"><img src=\"https://colab.research.google.com/assets/colab-badge.svg\" alt=\"Open In Colab\"/></a>"
      ]
    },
    {
      "cell_type": "markdown",
      "metadata": {
        "id": "RFTpXInIWWve"
      },
      "source": [
        "# PYTHON FUNDAMENTALS, Part 2 (Workbook)\n",
        "\n",
        "[CC BY 4.0](https://creativecommons.org/licenses/by/4.0/)"
      ]
    },
    {
      "cell_type": "markdown",
      "metadata": {
        "id": "N9nu47_mWWvg"
      },
      "source": [
        "## Credits\n",
        "\n",
        "Most code snippets and explanatory texts from:\n",
        "- Charles Russel Severance's [Python for Everybody](https://www.py4e.com/) lecture slides\n",
        "  -  Unless annotated as indicated below, text and code came from this source. Additionally, they could be explicitly indicated by the marker `[PES]`\n",
        "\n",
        "and\n",
        "- Charles Russel Severance's [Python for Everybody - Online HTML Book](https://www.py4e.com/html3/)\n",
        "  - Notes and codes from this source are indicated by this the marker `[PEW]`\n",
        "\n",
        "Additional codes and comments from:\n",
        "- J.R. Johansson's [Introduction to Scientific Computing with Python](http://github.com/jrjohansson/scientific-python-lectures)\n",
        "  - Notes and codes from this source are indicated by this the marker `[JRJ]`"
      ]
    },
    {
      "cell_type": "markdown",
      "metadata": {
        "id": "vLDG6uTCWWvh"
      },
      "source": [
        "# Before you begin\n",
        "\n",
        "First, make a copy of this notebook so that you can make changes as you please. Run and edit the copy instead of this original notebook. To copy this notebook, go to `File|Make a Copy`.\n",
        "\n",
        "If this notebook is already a copy of the original, clear all outputs in this notebook. Go to the Menu and click on `Cell| All Outputs| Clear`. Once this is done, you're ready to go."
      ]
    },
    {
      "cell_type": "markdown",
      "metadata": {
        "id": "5vU9xWyOWWvh"
      },
      "source": [
        "# Suggestions for Learning\n",
        "\n",
        "- Code snippets in Raw Cells are meant to be written by Beginners.\n",
        "- Code snippets in Code Cells are for illustration purposes. They are meant to be executed by both Beginners and more experienced Learners. (Beginners, may wish to also type them, if they so choose).\n",
        "\n",
        "For better learning experience, the following are suggested:\n",
        "\n",
        "### For Beginners\n",
        "1. Create a new Code Cell below the code snippets inside Raw Cells (Insert Cell below then convert the cell type to Code Cell).\n",
        "2. Go to your newly-created Code Cell and re-type what you see in the code snippet (don't copy-paste)\n",
        "3. Execute (and experiment) on the Code Cell.\n",
        "4. Remember to learn by doing (not just by reading or seeing)\n",
        "\n",
        "### For Coders\n",
        "1. If you are not yet familiar with the concept, follow Steps 1&2 of the Instructions for Beginners\n",
        "2. If you are already familiar with the concept being presented, convert the Raw Cell into a Code Cell.\n",
        "3. Execute (and experiment) on the Code Cell.\n",
        "4. Learn the \"adjacent concepts\", e.g. read related documentation.\n",
        "5. Help your classmates, because teaching is a wonderful way to learn.\n",
        "\n",
        "### For All\n",
        "* Make this your personal notebook.\n",
        "    * Add your own text annotations in Markup Cells.\n",
        "    * Add comments to parts of code that you find difficult to understand\n",
        "    * Breakdown difficult code into several small pieces (maybe, several Code Cells) that are easier to understand"
      ]
    },
    {
      "cell_type": "markdown",
      "metadata": {
        "id": "uGeiRDCpWWvi"
      },
      "source": [
        "<a id='contents'></a>"
      ]
    },
    {
      "cell_type": "markdown",
      "metadata": {
        "id": "roq24NHjWWvi"
      },
      "source": [
        "# TABLE OF CONTENTS"
      ]
    },
    {
      "cell_type": "markdown",
      "metadata": {
        "id": "mdU-7bFSWWvi"
      },
      "source": [
        "[Chapter 6 Strings](#chapter6)<br>\n",
        "[Chapter 7 Files](#chapter7)<br>\n"
      ]
    },
    {
      "cell_type": "markdown",
      "metadata": {
        "id": "6Ddkvz47WWvi"
      },
      "source": [
        "<a id='chapter6'></a>"
      ]
    },
    {
      "cell_type": "markdown",
      "metadata": {
        "id": "qF3-Mb89WWvj"
      },
      "source": [
        "# CHAPTER 6  - `Strings`"
      ]
    },
    {
      "cell_type": "markdown",
      "metadata": {
        "id": "jTrIzKFSWWvj"
      },
      "source": [
        "## The `String` Data Type"
      ]
    },
    {
      "cell_type": "markdown",
      "metadata": {
        "id": "mprB6V3iWWvj"
      },
      "source": [
        "A string is a sequence of characters."
      ]
    },
    {
      "cell_type": "markdown",
      "metadata": {
        "id": "XfbSFjBSWWvj"
      },
      "source": [
        "Recall:\n",
        "    Python strings can be enclosed in single quote(`'`) or double quotes (`\"`). The back quote (the character that shares the key with tilde `~`) cannot be used to identify strings."
      ]
    },
    {
      "cell_type": "raw",
      "metadata": {
        "id": "uwkkb7ahWWvk"
      },
      "source": [
        "str1 = \"Hello\"\n",
        "str1"
      ]
    },
    {
      "cell_type": "raw",
      "metadata": {
        "id": "LTTsH18EWWvk"
      },
      "source": [
        "str2 = \"there\"\n",
        "str2"
      ]
    },
    {
      "cell_type": "markdown",
      "metadata": {
        "id": "A0xv0lFXWWvk"
      },
      "source": [
        "When a string contains numbers, it is still a string"
      ]
    },
    {
      "cell_type": "raw",
      "metadata": {
        "id": "Ah7LbgbCWWvk"
      },
      "source": [
        "str3 = '123'\n",
        "str3 = str3 + 1"
      ]
    },
    {
      "cell_type": "markdown",
      "metadata": {
        "id": "WT8pGCUsWWvk"
      },
      "source": [
        "We can convert numbers in a string into a number using `int()` ..."
      ]
    },
    {
      "cell_type": "raw",
      "metadata": {
        "id": "F0FNwE6tWWvl"
      },
      "source": [
        "x = int(str3) + 1\n",
        "print(x)"
      ]
    },
    {
      "cell_type": "markdown",
      "metadata": {
        "id": "7qfZ3hCUWWvl"
      },
      "source": [
        "or `float()`"
      ]
    },
    {
      "cell_type": "raw",
      "metadata": {
        "id": "uLsP4zj5WWvl"
      },
      "source": [
        "x = float(str3) + 1\n",
        "print(x)"
      ]
    },
    {
      "cell_type": "markdown",
      "metadata": {
        "id": "3CLdENHoWWvl"
      },
      "source": [
        "## A string is a sequence of characters"
      ]
    },
    {
      "cell_type": "markdown",
      "metadata": {
        "id": "uXAx_mPSWWvl"
      },
      "source": [
        "- We can get at any single character in a string using an **index** specified in __square brackets__\n",
        "- The index value must be an integer and __starts at zero__"
      ]
    },
    {
      "cell_type": "raw",
      "metadata": {
        "id": "ZW9i9GqcWWvm"
      },
      "source": [
        "fruit = 'banana'\n",
        "letter = fruit[0] # remember: index starts at 0\n",
        "print(letter)"
      ]
    },
    {
      "cell_type": "markdown",
      "metadata": {
        "id": "4oE4LQ0-WWvm"
      },
      "source": [
        "The index value can be an expression that is computed."
      ]
    },
    {
      "cell_type": "raw",
      "metadata": {
        "scrolled": true,
        "id": "XJowhT9AWWvm"
      },
      "source": [
        "x = 3\n",
        "w = fruit[x - 1]\n",
        "print(w)"
      ]
    },
    {
      "cell_type": "markdown",
      "metadata": {
        "id": "4UZiVwm8WWvm"
      },
      "source": [
        "[PEW]\n",
        "You can use any expression, including variables and operators, as an index, but the value of the index has to be an integer."
      ]
    },
    {
      "cell_type": "raw",
      "metadata": {
        "id": "0VxA_YK_WWvm"
      },
      "source": [
        "letter = fruit[1.5]"
      ]
    },
    {
      "cell_type": "markdown",
      "metadata": {
        "id": "he8p7p_MWWvm"
      },
      "source": [
        "Indexing with a negative number counts from the end of the string. The last element of the string is indexed at `-1`."
      ]
    },
    {
      "cell_type": "raw",
      "metadata": {
        "id": "KnA1dqd_WWvn"
      },
      "source": [
        "fruit[-1]"
      ]
    },
    {
      "cell_type": "raw",
      "metadata": {
        "id": "WMuXMFmaWWvn"
      },
      "source": [
        "fruit[-2]"
      ]
    },
    {
      "cell_type": "markdown",
      "metadata": {
        "id": "N_u8UGWSWWvn"
      },
      "source": [
        "### `String index out of range` error"
      ]
    },
    {
      "cell_type": "markdown",
      "metadata": {
        "id": "uHvQLF5bWWvn"
      },
      "source": [
        "You will get a python error if you attempt to index beyond the end of a string"
      ]
    },
    {
      "cell_type": "raw",
      "metadata": {
        "id": "0qcOXEjmWWvn"
      },
      "source": [
        "connection = 'wifi'\n",
        "print(connection[4])\n",
        "\n"
      ]
    },
    {
      "cell_type": "raw",
      "metadata": {
        "id": "tTHKeG9TWWvn"
      },
      "source": [
        "connection[3]"
      ]
    },
    {
      "cell_type": "markdown",
      "metadata": {
        "id": "u1hsriu5WWvo"
      },
      "source": [
        "### String Length"
      ]
    },
    {
      "cell_type": "markdown",
      "metadata": {
        "id": "RBWkNlIkWWvo"
      },
      "source": [
        "`len` is a built-in function that returns the number of characters in a string:"
      ]
    },
    {
      "cell_type": "raw",
      "metadata": {
        "scrolled": true,
        "id": "uNq-56pXWWvo"
      },
      "source": [
        "fruit = 'banana'\n",
        "print(len(fruit))"
      ]
    },
    {
      "cell_type": "markdown",
      "metadata": {
        "id": "Rtwl1UpwWWvo"
      },
      "source": [
        "How do we access to the end of the string?"
      ]
    },
    {
      "cell_type": "raw",
      "metadata": {
        "id": "D3YQOqb7WWvo"
      },
      "source": [
        "length = len(fruit)\n",
        "fruit[length-1]\n",
        "\n"
      ]
    },
    {
      "cell_type": "markdown",
      "metadata": {
        "id": "G49gTPjQWWv0"
      },
      "source": [
        "The easier way is to use negative indexing mentioned a while ago."
      ]
    },
    {
      "cell_type": "raw",
      "metadata": {
        "id": "xIegvVzYWWv1"
      },
      "source": [
        "fruit[-1]"
      ]
    },
    {
      "cell_type": "markdown",
      "metadata": {
        "id": "aDR4t_5jWWv1"
      },
      "source": [
        "Be careful not to do the following:"
      ]
    },
    {
      "cell_type": "raw",
      "metadata": {
        "id": "TXg1CIz8WWv1"
      },
      "source": [
        "last = len(fruit)\n",
        "fruit[last]"
      ]
    },
    {
      "cell_type": "markdown",
      "metadata": {
        "id": "GT-7YffYWWv1"
      },
      "source": [
        "### Looping through strings using `for`"
      ]
    },
    {
      "cell_type": "markdown",
      "metadata": {
        "id": "hStC-S1TWWv1"
      },
      "source": [
        "You can access each character in a string using a `for` loop"
      ]
    },
    {
      "cell_type": "raw",
      "metadata": {
        "scrolled": true,
        "id": "x-DVbNbiWWv1"
      },
      "source": [
        "fruit = 'banana'\n",
        "for letter in fruit :\n",
        "    print(letter)"
      ]
    },
    {
      "cell_type": "markdown",
      "metadata": {
        "id": "VO81WgitWWv1"
      },
      "source": [
        "## More String Operations"
      ]
    },
    {
      "cell_type": "markdown",
      "metadata": {
        "id": "uSuVLsabWWv2"
      },
      "source": [
        "### Slicing Strings"
      ]
    },
    {
      "cell_type": "markdown",
      "metadata": {
        "id": "Ij6_wQqAWWv2"
      },
      "source": [
        "A segment of a string is called a slice."
      ]
    },
    {
      "cell_type": "markdown",
      "metadata": {
        "id": "mZXy_5T3WWv2"
      },
      "source": [
        "- Slices are defined using a colon (`:`) operator.\n",
        "- If `s` is a string, `s[n:m]` defines a segment from the `n`th index **up to**, but __not including__, the `m`th index\n",
        "- mnemonic that could be used: the right `slice` of bread looks like `[)`\n"
      ]
    },
    {
      "cell_type": "raw",
      "metadata": {
        "id": "GOvtUqgKWWv2"
      },
      "source": [
        "s = 'Monty Python'"
      ]
    },
    {
      "cell_type": "markdown",
      "metadata": {
        "id": "FFx1VzX8WWv2"
      },
      "source": [
        "Let's get the string index of each character in the string."
      ]
    },
    {
      "cell_type": "raw",
      "metadata": {
        "id": "8cz0CFleWWv2"
      },
      "source": [
        "i =0\n",
        "print('i  char')\n",
        "print('-------')\n",
        "for char in s:\n",
        "    print(i,' '+char)\n",
        "    i = i + 1\n",
        "\n"
      ]
    },
    {
      "cell_type": "markdown",
      "metadata": {
        "id": "26qNeiHtWWv3"
      },
      "source": [
        "Now let's produce string some string slices."
      ]
    },
    {
      "cell_type": "raw",
      "metadata": {
        "id": "uwsO1E6-WWv3"
      },
      "source": [
        "print(s[0:4])"
      ]
    },
    {
      "cell_type": "raw",
      "metadata": {
        "id": "pIC3S_gyWWv3"
      },
      "source": [
        "print(s[6:7])"
      ]
    },
    {
      "cell_type": "markdown",
      "metadata": {
        "id": "EnasX_QTWWv3"
      },
      "source": [
        "If we leave off the **first number** of the slice, it is assumed to be the **beginning** of the string."
      ]
    },
    {
      "cell_type": "raw",
      "metadata": {
        "id": "TJXe-r8dWWv3"
      },
      "source": [
        "print(s[:2])"
      ]
    },
    {
      "cell_type": "markdown",
      "metadata": {
        "id": "kZWFRMYdWWv3"
      },
      "source": [
        "If we leave off the **last number** of the slice, it is assumed to be the **end** of the string."
      ]
    },
    {
      "cell_type": "raw",
      "metadata": {
        "id": "-lc-5JGLWWv3"
      },
      "source": [
        "print(s[8:])"
      ]
    },
    {
      "cell_type": "markdown",
      "metadata": {
        "id": "JwJF2tv5WWv4"
      },
      "source": [
        "If we leave both the **first number and last number** of the slice, we will get the  **whole** string."
      ]
    },
    {
      "cell_type": "raw",
      "metadata": {
        "id": "3hwPjcw3WWv4"
      },
      "source": [
        "print(s[:])"
      ]
    },
    {
      "cell_type": "markdown",
      "metadata": {
        "id": "ZUgHzy6HWWv4"
      },
      "source": [
        "Slices also work with negative indexing"
      ]
    },
    {
      "cell_type": "raw",
      "metadata": {
        "id": "bZ0jb_DOWWv4"
      },
      "source": [
        "s[:-1]"
      ]
    },
    {
      "cell_type": "raw",
      "metadata": {
        "id": "P6mdkcr_WWv4"
      },
      "source": [
        "s[-3:]"
      ]
    },
    {
      "cell_type": "markdown",
      "metadata": {
        "id": "FHJ2KxPlWWv4"
      },
      "source": [
        "### Strings are Immutable"
      ]
    },
    {
      "cell_type": "markdown",
      "metadata": {
        "id": "lNwuFLx_WWv4"
      },
      "source": [
        "It is not possible to give a new value to an character in a string.\n",
        "\n"
      ]
    },
    {
      "cell_type": "raw",
      "metadata": {
        "id": "koHBsduiWWv5"
      },
      "source": [
        "greeting = 'Yello, world!'\n",
        "greeting[0] = 'H'"
      ]
    },
    {
      "cell_type": "markdown",
      "metadata": {
        "id": "MMcYcM_8WWv5"
      },
      "source": [
        "Nor is it possible to assign a new value to a slice of a string."
      ]
    },
    {
      "cell_type": "raw",
      "metadata": {
        "id": "UTXPlOlTWWv5"
      },
      "source": [
        "greeting[0:5] =  'Hello'"
      ]
    },
    {
      "cell_type": "markdown",
      "metadata": {
        "id": "g8HvtmRDWWv5"
      },
      "source": [
        "To \"modify\" a string in python, a new string has to be made:"
      ]
    },
    {
      "cell_type": "raw",
      "metadata": {
        "scrolled": true,
        "id": "nvD8u2ELWWv5"
      },
      "source": [
        "new_greeting = 'H' + greeting[1:]\n",
        "print(new_greeting)"
      ]
    },
    {
      "cell_type": "markdown",
      "metadata": {
        "id": "pnwirC3PWWv5"
      },
      "source": [
        "### String Concatenation"
      ]
    },
    {
      "cell_type": "markdown",
      "metadata": {
        "id": "HSfWSkWgWWv5"
      },
      "source": [
        "When the  `+`  operator is applied to strings, it means “concatenation”"
      ]
    },
    {
      "cell_type": "raw",
      "metadata": {
        "id": "oBciI2_ZWWv6"
      },
      "source": [
        "a = 'Hello'\n",
        "b = a + 'There'\n",
        "print(b)"
      ]
    },
    {
      "cell_type": "raw",
      "metadata": {
        "id": "U0QDCppWWWv6"
      },
      "source": [
        "c = a + ' ' + 'There'\n",
        "print(c)"
      ]
    },
    {
      "cell_type": "markdown",
      "metadata": {
        "id": "8JmG4-RzWWv6"
      },
      "source": [
        "## String Library"
      ]
    },
    {
      "cell_type": "markdown",
      "metadata": {
        "id": "aTuL0Z3qWWv6"
      },
      "source": [
        "- Python has a number of string functions which are in the `string` library\n",
        "- These functions are already built into every string - we invoke them by _appending the function to the string variable_\n",
        "- These functions __do not modify__ the original string, instead they return a new string that has been altered"
      ]
    },
    {
      "cell_type": "markdown",
      "metadata": {
        "id": "6OjwePnpWWv6"
      },
      "source": [
        "Below are examples of some of the useful string functions."
      ]
    },
    {
      "cell_type": "markdown",
      "metadata": {
        "id": "-LSVxLFoWWv6"
      },
      "source": [
        "#### lower case with function `lower()`"
      ]
    },
    {
      "cell_type": "raw",
      "metadata": {
        "id": "vvGW6fUuWWv7"
      },
      "source": [
        "text = 'Enero, Febrero, Marzo'\n",
        "spanish_months = text.lower()\n",
        "print(spanish_months)"
      ]
    },
    {
      "cell_type": "markdown",
      "metadata": {
        "id": "evJgEVSPWWv7"
      },
      "source": [
        "#### UPPER CASE with function `upper()`"
      ]
    },
    {
      "cell_type": "raw",
      "metadata": {
        "id": "15xCosxbWWv7"
      },
      "source": [
        "greeting = 'Hello Bob'\n",
        "greeting.upper()"
      ]
    },
    {
      "cell_type": "markdown",
      "metadata": {
        "id": "PQRuMJAhWWv7"
      },
      "source": [
        "#### Stripping Whitespaces with functions `lstrip()`, `rstrip()`, and `strip()`"
      ]
    },
    {
      "cell_type": "raw",
      "metadata": {
        "id": "v6CxWphjWWv7"
      },
      "source": [
        "greeting = '   Hello Bob  '"
      ]
    },
    {
      "cell_type": "raw",
      "metadata": {
        "id": "cXVGfqZXWWv7"
      },
      "source": [
        "greeting.lstrip()"
      ]
    },
    {
      "cell_type": "raw",
      "metadata": {
        "id": "WjL5camkWWv7"
      },
      "source": [
        "greeting.rstrip()"
      ]
    },
    {
      "cell_type": "raw",
      "metadata": {
        "id": "3ukOmzmIWWv7"
      },
      "source": [
        "greeting.strip()"
      ]
    },
    {
      "cell_type": "markdown",
      "metadata": {
        "id": "OdqRPfukWWv8"
      },
      "source": [
        "#### Splitting the words with `split()`"
      ]
    },
    {
      "cell_type": "markdown",
      "metadata": {
        "id": "wEZ47qK7WWv8"
      },
      "source": [
        "This operation returns a **list** data type containing the words in the string. We will talk about lists in a later chapter."
      ]
    },
    {
      "cell_type": "raw",
      "metadata": {
        "scrolled": true,
        "id": "1LxZsaGUWWv8"
      },
      "source": [
        "quotation = 'One ring to rule them all, one ring to find them.'\n",
        "quotation.split()"
      ]
    },
    {
      "cell_type": "markdown",
      "metadata": {
        "id": "5qZgi5rpWWv8"
      },
      "source": [
        "### Formating Strings"
      ]
    },
    {
      "cell_type": "markdown",
      "metadata": {
        "id": "fKrNORs4WWv8"
      },
      "source": [
        "#### Formatting strings with `format()`"
      ]
    },
    {
      "cell_type": "markdown",
      "metadata": {
        "id": "JqVUEJVNWWv8"
      },
      "source": [
        "An simple intuitive way of printing a combination of string and variable values is to use the `format` string function.\n",
        "\n",
        "Steps\n",
        "- Create a string with desired text\n",
        "- Put **curly braces** in positions where you'd like variable values to appear.  \n",
        "- Invoke the `format` operation, and pass the variables you want to be displayed. The variable values will be displayed in the sequence with which they are passed to the `format` function."
      ]
    },
    {
      "cell_type": "raw",
      "metadata": {
        "id": "d52yvCIPWWv8"
      },
      "source": [
        "speech = '{} scores and  {} years ago'\n",
        "speech.format(4, 7)\n",
        "\n"
      ]
    },
    {
      "cell_type": "markdown",
      "metadata": {
        "id": "HeCp7wbqWWv8"
      },
      "source": [
        "The code below accomplishes the same thing, without the extra assignment statement."
      ]
    },
    {
      "cell_type": "raw",
      "metadata": {
        "id": "dZhOeZqPWWv9"
      },
      "source": [
        "'{} scores and  {} years ago'.format(4, 7)"
      ]
    },
    {
      "cell_type": "raw",
      "metadata": {
        "id": "8lBakX-sWWv9"
      },
      "source": [
        "'{} divided by {} equals {}'.format(512, 3, 512/3)\n"
      ]
    },
    {
      "cell_type": "markdown",
      "metadata": {
        "id": "RH20jyvjWWv9"
      },
      "source": [
        "#### Other useful string operations"
      ]
    },
    {
      "cell_type": "markdown",
      "metadata": {
        "id": "lwPcw4b6WWv9"
      },
      "source": [
        "    startswith()\n",
        "    endswith()\n",
        "    capitalize()\n",
        "    center()\n",
        "    find()\n",
        "    replace()"
      ]
    },
    {
      "cell_type": "markdown",
      "metadata": {
        "id": "5gMxrXK0WWv9"
      },
      "source": [
        "####  strings and the `print` function"
      ]
    },
    {
      "cell_type": "markdown",
      "metadata": {
        "id": "sEkWxCq7WWv9"
      },
      "source": [
        "The print statement concatenates strings with a space [JRJ]"
      ]
    },
    {
      "cell_type": "raw",
      "metadata": {
        "id": "Yfw5L5rfWWv9"
      },
      "source": [
        "print(\"str1\", \"str2\", \"str3\")"
      ]
    },
    {
      "cell_type": "markdown",
      "metadata": {
        "id": "NkyTy0TLWWv-"
      },
      "source": [
        "The print statement converts all arguments to strings  [JRJ]"
      ]
    },
    {
      "cell_type": "raw",
      "metadata": {
        "id": "F6NUYrlOWWv-"
      },
      "source": [
        "print(\"str1\", 1.0, True or False, 5**2)"
      ]
    },
    {
      "cell_type": "markdown",
      "metadata": {
        "id": "s7M-w5q4WWv-"
      },
      "source": [
        "## Getting Help on Strings"
      ]
    },
    {
      "cell_type": "markdown",
      "metadata": {
        "id": "UUiUDDn8WWv-"
      },
      "source": [
        "#### `dir()` function to get a list of string operations"
      ]
    },
    {
      "cell_type": "markdown",
      "metadata": {
        "scrolled": true,
        "id": "lbhpbaVeWWv-"
      },
      "source": [
        "You can get a list of functions (or methods) on strings by using the `dir()` function on a string literal. Functions that start and end with double underscores (`__`) are special methods used by Python. Disregard them for the meantime."
      ]
    },
    {
      "cell_type": "raw",
      "metadata": {
        "id": "F1dv-StrWWv-"
      },
      "source": [
        "my_string = 'Hello world'\n",
        "dir(my_string)"
      ]
    },
    {
      "cell_type": "markdown",
      "metadata": {
        "id": "sQkl97h5WWv-"
      },
      "source": [
        "Below is a listing of string methods with the special methods removed."
      ]
    },
    {
      "cell_type": "markdown",
      "metadata": {
        "id": "ot9ko_TQWWv-"
      },
      "source": [
        "    ['capitalize', 'casefold', 'center', 'count', 'encode', 'endswith', 'expandtabs', 'find', 'format', 'format_map', 'index', 'isalnum', 'isalpha', 'isdecimal', 'isdigit', 'isidentifier', 'islower', 'isnumeric', 'isprintable', 'isspace', 'istitle', 'isupper', 'join', 'ljust', 'lower', 'lstrip', 'maketrans', 'partition', 'replace', 'rfind', 'rindex', 'rjust', 'rpartition', 'rsplit', 'rstrip', 'split', 'splitlines', 'startswith', 'strip', 'swapcase', 'title', 'translate', 'upper', 'zfill']"
      ]
    },
    {
      "cell_type": "markdown",
      "metadata": {
        "id": "unw4QSZhWWv_"
      },
      "source": [
        "#### Using the `help()` function"
      ]
    },
    {
      "cell_type": "markdown",
      "metadata": {
        "id": "GJypXVnfWWv_"
      },
      "source": [
        "A way to get help is by calling the `help()` function. To use it, just pass `s.method` as argument to the function (where `s` is a string variable and `method` is the method you want to get help on. See example below."
      ]
    },
    {
      "cell_type": "raw",
      "metadata": {
        "id": "Vzma0bRqWWv_"
      },
      "source": [
        "s = \"some_text\""
      ]
    },
    {
      "cell_type": "raw",
      "metadata": {
        "id": "iKo-srs3WWv_"
      },
      "source": [
        "help(s.startswith)"
      ]
    },
    {
      "cell_type": "markdown",
      "metadata": {
        "id": "o2_ymUlQWWv_"
      },
      "source": [
        "#### `?` in  Jupyter notebooks"
      ]
    },
    {
      "cell_type": "markdown",
      "metadata": {
        "id": "Um0464nWWWv_"
      },
      "source": [
        "In Jupyter, you could get help putting a question mark before or after a valid method call."
      ]
    },
    {
      "cell_type": "raw",
      "metadata": {
        "id": "iUrWX7UaWWv_"
      },
      "source": [
        "?s.startswith"
      ]
    },
    {
      "cell_type": "raw",
      "metadata": {
        "id": "mXXsfzCKWWv_"
      },
      "source": [
        "s.startswith?"
      ]
    },
    {
      "cell_type": "markdown",
      "metadata": {
        "id": "LnIJpAnVWWv_"
      },
      "source": [
        "#### **Python reference**  Lookup"
      ]
    },
    {
      "cell_type": "markdown",
      "metadata": {
        "id": "PUL47Q4iWWwA"
      },
      "source": [
        "You could also get help by going to the official Python reference (go to Jupyter's Menu `Help|Python Reference`)\n"
      ]
    },
    {
      "cell_type": "markdown",
      "metadata": {
        "id": "VTceyiCrWWwA"
      },
      "source": [
        "#### Internet Lookup"
      ]
    },
    {
      "cell_type": "markdown",
      "metadata": {
        "id": "1xVG1g6MWWwA"
      },
      "source": [
        "A quick way to get help is by searching in the web. This is especially useful if you wan to get sample code snippets for reuse.  A useful site is `Stackoverflow`.\n",
        "\n",
        "Many times, the web results and Stackoverflow will point you to portions of the official reference.\n",
        "\n",
        "When using solutions from the web, make sure you understand what pieces of code are useful for you, how they work, and how you could adapt them to your own program (if needed).\n"
      ]
    },
    {
      "cell_type": "markdown",
      "metadata": {
        "id": "V_hH4KSKWWwA"
      },
      "source": [
        "\n",
        "\n",
        "\n",
        "## Final Words"
      ]
    },
    {
      "cell_type": "markdown",
      "metadata": {
        "id": "hOlUKT5QWWwA"
      },
      "source": [
        "- String manipulation is important for reading data,  especially data that still needs cleaning\n",
        "- Slicing is an important skill to learn as it is also applicable to vectors, matrices, Series and Dataframes\n",
        "- A big part of problem solving is done by identifying what tool to use and how to use it. For this, knowing how and where to get help is essential.\n",
        "- The portion of this chapter on getting help on strings is also applicable to the other python modules we'll learn in the upcoming lessons.\n"
      ]
    },
    {
      "cell_type": "markdown",
      "metadata": {
        "id": "regzaI-4WWwA"
      },
      "source": [
        "## EXERCISES"
      ]
    },
    {
      "cell_type": "markdown",
      "metadata": {
        "id": "lMk1RTAfWWwB"
      },
      "source": [
        "#### Exercise 1"
      ]
    },
    {
      "cell_type": "markdown",
      "metadata": {
        "id": "xIStwEHrWWwB"
      },
      "source": [
        "Given the code below    \n",
        "\n",
        "    text = 'Business Analytics'\n",
        "\n",
        "What will the following expressions produce?\n",
        "    \n",
        "    text[4]\n",
        "    text[2:4]\n",
        "    text[:4]\n",
        "    text[4:]\n",
        "    text[-2]\n",
        "    text[-4:-2]\n",
        "    text[-2:]\n",
        "    text[:-2]\n",
        "    "
      ]
    },
    {
      "cell_type": "markdown",
      "metadata": {
        "id": "7npd2ClOWWwB"
      },
      "source": [
        "#### Exercise 2"
      ]
    },
    {
      "cell_type": "markdown",
      "metadata": {
        "id": "wa_6yWCBWWwB"
      },
      "source": [
        "Given the code below:\n",
        "    \n",
        "    phrase = 'One Ring to rule them all'\n",
        "\n",
        "What string slicing expression gives out the following words:\n",
        "\n",
        "    'One '\n",
        "    'Ring'\n",
        "    'all'\n",
        "    'them'\n",
        "    'One Ring to rule them all'\n",
        "    "
      ]
    },
    {
      "cell_type": "markdown",
      "metadata": {
        "id": "y3d5EdhJWWwB"
      },
      "source": [
        "\n",
        "## CHALLENGE\n"
      ]
    },
    {
      "cell_type": "markdown",
      "metadata": {
        "id": "2Wrjt9RxWWwB"
      },
      "source": [
        "Write a program which repeatedly reads a **full name**, then does the following:\n",
        "- strips the name of any trailing spaces\n",
        "- capitalizes the first letter\n",
        "- puts the rest into smaller letters\n"
      ]
    },
    {
      "cell_type": "markdown",
      "metadata": {
        "id": "Y0-rsBk4WWwB"
      },
      "source": [
        "[TABLE OF CONTENTS](#contents)"
      ]
    },
    {
      "cell_type": "markdown",
      "metadata": {
        "id": "iobCmsEYWWwB"
      },
      "source": [
        "<a id='chapter8'></a>"
      ]
    },
    {
      "cell_type": "markdown",
      "metadata": {
        "id": "FPJft5H3WWwC"
      },
      "source": [
        "# CHAPTER  7 - Files"
      ]
    },
    {
      "cell_type": "markdown",
      "metadata": {
        "id": "MoBXAkfCWWwC"
      },
      "source": [
        "Computations in a computer are done in the Main Memory. Data and computations in the main memory are lost when the computer's power is turned off. (This is why you have to reload jupyter notebooks and re-run cells after you have turned off your computer.)\n",
        "\n",
        "**Files** provide us with the ability to save data such that they could be recovered even after the computer's power is turned off. Files are saved in your computer's hard drive, a DVD or in a USB flash drive.\n"
      ]
    },
    {
      "cell_type": "markdown",
      "metadata": {
        "id": "BTiCkKrIWWwC"
      },
      "source": [
        "![computer_architechture.png](attachment:computer_architechture.png)"
      ]
    },
    {
      "cell_type": "markdown",
      "metadata": {
        "id": "gsmBLdUTWWwC"
      },
      "source": [
        "There are many kinds of files, but in this chapter, we will only talk about text files.\n",
        "\n",
        "You could consider a text file as a sequence of strings.\n"
      ]
    },
    {
      "cell_type": "markdown",
      "metadata": {
        "id": "qZYIRQiDWWwC"
      },
      "source": [
        "## Opening Files"
      ]
    },
    {
      "cell_type": "markdown",
      "metadata": {
        "id": "BLTTFs9UWWwC"
      },
      "source": [
        "- Before we can read the contents of the file, we must tell Python which file we are going to work with and what we will be doing with the file\n",
        "- This is done with the `open()` function\n",
        "- `open()` returns a **file handle** - a variable used to perform operations on the file\n",
        "- Similar to “File | Open” in a Word Processor"
      ]
    },
    {
      "cell_type": "markdown",
      "metadata": {
        "id": "NsvSdNWvWWwC"
      },
      "source": [
        "##  The `open()` function and the file handle"
      ]
    },
    {
      "cell_type": "markdown",
      "metadata": {
        "id": "qZ5XfEy9WWwD"
      },
      "source": [
        "To open a file, you write code similar to the one below."
      ]
    },
    {
      "cell_type": "markdown",
      "metadata": {
        "id": "Ue0NgTBvWWwD"
      },
      "source": [
        "    handle = open(filename, mode)\n",
        "\n",
        "- returns a `handle` use to manipulate the file\n",
        "- `filename` is a string\n",
        "- `mode` is optional and should be `'r'` if we are planning to read the file and `'w'` if we are going to write to the file"
      ]
    },
    {
      "cell_type": "raw",
      "metadata": {
        "id": "eaNVG5SrWWwD"
      },
      "source": [
        "file_handle = open('words.txt', 'r')\n",
        "print(file_handle)"
      ]
    },
    {
      "cell_type": "markdown",
      "metadata": {
        "id": "0kuc6ktnWWwD"
      },
      "source": [
        "The file handle is not the actual data contained in the file, but instead it is a \"handle\" that we can use to read the data. You are given a handle if the requested file exists and you have the proper permissions to read the file."
      ]
    },
    {
      "cell_type": "markdown",
      "metadata": {
        "id": "k8zGxeeaWWwD"
      },
      "source": [
        "![file_handle.png](attachment:file_handle.png)"
      ]
    },
    {
      "cell_type": "markdown",
      "metadata": {
        "id": "NvX-_8hHWWwD"
      },
      "source": [
        "If the file does not exist, open will fail with a traceback and you will not get a handle to access the contents of the file: [PEW]"
      ]
    },
    {
      "cell_type": "raw",
      "metadata": {
        "id": "8Umwb2hjWWwD"
      },
      "source": [
        "file_handle = open('some_non_existent_filename.txt')"
      ]
    },
    {
      "cell_type": "markdown",
      "metadata": {
        "id": "wxFwbbGEWWwD"
      },
      "source": [
        "##  The newline character (`'\\n'`)"
      ]
    },
    {
      "cell_type": "markdown",
      "metadata": {
        "id": "j5-lyfwLWWwD"
      },
      "source": [
        "A text file can be thought of as a sequence of lines. To break the file into lines, there is a special character that represents the \"end of the line\" called the newline character.\n",
        "\n",
        "In Python, we represent the newline character as a `backslash-n` in string constants. Even though this looks like two characters, it is actually a single character. When we look at the variable by entering \"stuff\" in the interpreter, it shows us the `\\n` in the string, but when we use print to show the string, we see the string broken into two lines by the newline character.[PEW]"
      ]
    },
    {
      "cell_type": "raw",
      "metadata": {
        "id": "XJ-la8PmWWwE"
      },
      "source": [
        "stuff = 'Hello\\nWorld!'\n",
        "stuff"
      ]
    },
    {
      "cell_type": "raw",
      "metadata": {
        "id": "GZvghjFrWWwE"
      },
      "source": [
        "print(stuff)"
      ]
    },
    {
      "cell_type": "raw",
      "metadata": {
        "id": "kqhgzUJTWWwE"
      },
      "source": [
        "stuff = 'X\\nY'\n",
        "print(stuff)"
      ]
    },
    {
      "cell_type": "raw",
      "metadata": {
        "id": "xQS7PfMOWWwE"
      },
      "source": [
        "len(stuff)"
      ]
    },
    {
      "cell_type": "markdown",
      "metadata": {
        "id": "-JAMzKRhWWwE"
      },
      "source": [
        "##  Reading Files"
      ]
    },
    {
      "cell_type": "markdown",
      "metadata": {
        "id": "rgnYzFsGWWwE"
      },
      "source": [
        "- A file handle open for reading can be treated as a sequence of strings where each line in the file is a string in the sequence\n",
        "- We can use the for statement to iterate through a sequence\n",
        "- Remember - a sequence is an ordered set"
      ]
    },
    {
      "cell_type": "raw",
      "metadata": {
        "id": "ZD2h6mc8WWwE"
      },
      "source": [
        "f = open('ring_verse.txt')\n",
        "for line in f:\n",
        "    print(line)"
      ]
    },
    {
      "cell_type": "markdown",
      "metadata": {
        "id": "_6zaph5LWWwF"
      },
      "source": [
        "#### Why are there blank lines?"
      ]
    },
    {
      "cell_type": "markdown",
      "metadata": {
        "id": "JOjmXRdhWWwF"
      },
      "source": [
        "Each line from the file has a newline at the end: The `print` statement adds a newline to each line.\n",
        "We can strip the whitespace from the right-hand side of the string using `rstrip()` from the string library. The newline is considered “white space” and is stripped"
      ]
    },
    {
      "cell_type": "raw",
      "metadata": {
        "id": "zcqAhM5PWWwF"
      },
      "source": [
        "f = open('ring_verse.txt')\n",
        "for line in f:\n",
        "    line = line.rstrip()\n",
        "    print(line)"
      ]
    },
    {
      "cell_type": "markdown",
      "metadata": {
        "id": "r7GIvfC0WWwF"
      },
      "source": [
        "#### Reading the whole file"
      ]
    },
    {
      "cell_type": "markdown",
      "metadata": {
        "id": "U8djfCTmWWwF"
      },
      "source": [
        "We can read the entire file in one go with the `read()` method"
      ]
    },
    {
      "cell_type": "raw",
      "metadata": {
        "id": "hlTVQxG-WWwF"
      },
      "source": [
        "f = open('ring_verse.txt')\n",
        "text = f.read()\n",
        "print(len(text))\n"
      ]
    },
    {
      "cell_type": "markdown",
      "metadata": {
        "id": "2OOyLT9WWWwF"
      },
      "source": [
        "### Searching through a file"
      ]
    },
    {
      "cell_type": "markdown",
      "metadata": {
        "id": "rc4nUowSWWwF"
      },
      "source": [
        "Our example file for this exercise is [mbox-short.txt](www.py4e.com/code3/mbox-short.txt), a text file that records mail activity for a project. Try viewing the contents of `mbox-short.txt` using your terminal.\n",
        "Our task is to extract all the email addresses from the text file."
      ]
    },
    {
      "cell_type": "markdown",
      "metadata": {
        "id": "UTbBnusQWWwG"
      },
      "source": [
        "When you are searching through data in a file, it is a very common pattern to read through a file, ignoring most of the lines and only processing lines which meet a particular condition. We can combine the pattern for reading a file with string methods to build simple search mechanisms."
      ]
    },
    {
      "cell_type": "raw",
      "metadata": {
        "id": "4vdUDc0MWWwG"
      },
      "source": [
        "fhand = open('mbox-short.txt')\n",
        "count = 0\n",
        "for line in fhand:\n",
        "    if line.startswith('From:'):\n",
        "        line = line.rstrip()\n",
        "        print(line)"
      ]
    },
    {
      "cell_type": "markdown",
      "metadata": {
        "id": "HrUlgcvWWWwG"
      },
      "source": [
        "We can use the `find` string method to simulate a text editor search that finds lines where the search string is anywhere in the line. Since find looks for an occurrence of a string within another string and either returns the position of the string or `-1` if the string was not found, we can write the following loop to show lines which contain the string **\"@uct.ac.za\"** (i.e., they come from the University of Cape Town in South Africa)"
      ]
    },
    {
      "cell_type": "raw",
      "metadata": {
        "id": "PdFOvu3XWWwG"
      },
      "source": [
        "fhand = open('mbox-short.txt')\n",
        "for line in fhand:\n",
        "    line = line.rstrip()\n",
        "    if line.find('@uct.ac.za') == -1:\n",
        "        continue\n",
        "    print(line)"
      ]
    },
    {
      "cell_type": "markdown",
      "metadata": {
        "id": "szgBgm8BWWwG"
      },
      "source": [
        "### Using `try`, `except`, and `open`"
      ]
    },
    {
      "cell_type": "markdown",
      "metadata": {
        "id": "1eGxLv3RWWwG"
      },
      "source": [
        "Handling files easily lends itself to run time errors, especially when the file you are trying to open does not exist. To prevent run time errors, it is a good practice to put the `open` command of a file inside a `try-except` block."
      ]
    },
    {
      "cell_type": "markdown",
      "metadata": {
        "id": "2xBgWdOBWWwH"
      },
      "source": [
        "Execute the code below, entering a name of a file that does not exist."
      ]
    },
    {
      "cell_type": "raw",
      "metadata": {
        "id": "0ktUk7B4WWwH"
      },
      "source": [
        "filename = input('Enter a filename:')\n",
        "try:\n",
        "    f = open(filename,'r')\n",
        "    text = f.read()\n",
        "    print('{} has {} characters.'.format(filename, len(text)))\n",
        "except:\n",
        "    print(filename+ ' does not exist.')\n"
      ]
    },
    {
      "cell_type": "markdown",
      "metadata": {
        "id": "PTbo7dZ-WWwH"
      },
      "source": [
        "The code below is similar to the one above. Now execute it entering a name of a file that you are sure exists."
      ]
    },
    {
      "cell_type": "raw",
      "metadata": {
        "id": "vGlnWV3FWWwH"
      },
      "source": [
        "filename = input('Enter a filename:')\n",
        "try:\n",
        "    f = open(filename,'r')\n",
        "    text = f.read()\n",
        "    print('{} has {} characters.'.format(filename, len(text)))\n",
        "except:\n",
        "    print(filename+ ' does not exist.')\n"
      ]
    },
    {
      "cell_type": "markdown",
      "metadata": {
        "id": "Se5oliw8WWwH"
      },
      "source": [
        "### Writing files"
      ]
    },
    {
      "cell_type": "markdown",
      "metadata": {
        "id": "AMw4eD0FWWwH"
      },
      "source": [
        "To write a file, you have to open it with mode `'w'` as a second parameter. When you are done writing, you have to `close` the file to make sure that the last bit of data is physically written to the disk so it will not be lost if the power goes off."
      ]
    },
    {
      "cell_type": "raw",
      "metadata": {
        "id": "q0-pVcuAWWwH"
      },
      "source": [
        "fout = open('output.txt', 'w')\n",
        "fout.write('First line\\n')\n",
        "fout.write('Second line\\n')\n",
        "line3 = '1 Petabyte is {}^{} ({}) bytes\\n'.format(10,15, 10**15)\n",
        "fout.write(line3)\n",
        "fout.close()"
      ]
    },
    {
      "cell_type": "raw",
      "metadata": {
        "id": "VeQNxszNWWwH"
      },
      "source": [
        "# If you're using Mac or Linux, execute this cell to view the file that was created.\n",
        "!cat output.txt"
      ]
    },
    {
      "cell_type": "raw",
      "metadata": {
        "id": "9Qqe6eGqWWwI"
      },
      "source": [
        "# If you're using Windows, execute this cell to view the file that was created.\n",
        "!type output.txt"
      ]
    },
    {
      "cell_type": "markdown",
      "metadata": {
        "id": "uhx6by2-WWwI"
      },
      "source": [
        "We could close the files which we open for read as well, but we can be a little sloppy if we are only opening a few files since Python makes sure that all open files are closed when the program ends. When we are writing files, we want to explicitly close the files so as to leave nothing to chance."
      ]
    },
    {
      "cell_type": "markdown",
      "metadata": {
        "id": "W90oK76sWWwI"
      },
      "source": [
        "## Final Words"
      ]
    },
    {
      "cell_type": "markdown",
      "metadata": {
        "id": "g8fB6MpNWWwI"
      },
      "source": [
        "- File handling skills are important for manipulating data directly.\n",
        "- However, many python modules (such as **pandas**) already provide methods for handling different types of files, providing many additional options on how to read and interpret the file.\n",
        "- The skills you have learned in this chapter will remove a bit of the mystery behind those file-handling methods provided by the other python modules\n"
      ]
    },
    {
      "cell_type": "markdown",
      "metadata": {
        "id": "mK2AS-yMWWwI"
      },
      "source": [
        "## EXERCISES"
      ]
    },
    {
      "cell_type": "markdown",
      "metadata": {
        "id": "UQY3YrN6WWwI"
      },
      "source": [
        "#### Exercise 1  "
      ]
    },
    {
      "cell_type": "markdown",
      "metadata": {
        "id": "mxJ5NCzUWWwI"
      },
      "source": [
        "Write a program to read through a file and print the contents of the file (line by line) all in upper case.\n",
        "\n",
        "from [PEW] E8-1"
      ]
    },
    {
      "cell_type": "markdown",
      "metadata": {
        "id": "mJueJWRgWWwI"
      },
      "source": [
        "#### Exercise 2  "
      ]
    },
    {
      "cell_type": "markdown",
      "metadata": {
        "id": "f2-p1B5UWWwI"
      },
      "source": [
        "Write a program to read through a file and output the number of lines in a file.\n",
        "\n",
        "adapted from [PEW]"
      ]
    },
    {
      "cell_type": "markdown",
      "metadata": {
        "id": "08Q65PrqWWwI"
      },
      "source": [
        "## CHALLENGE\n",
        "\n",
        "from [PEW] E8-2"
      ]
    },
    {
      "cell_type": "markdown",
      "metadata": {
        "id": "hfjKO4uaWWwJ"
      },
      "source": [
        "Write a program to prompt for a file name, and then read through the file and look for lines of the form:"
      ]
    },
    {
      "cell_type": "raw",
      "metadata": {
        "id": "ApTO5TVFWWwJ"
      },
      "source": [
        "X-DSPAM-Confidence: 0.8475"
      ]
    },
    {
      "cell_type": "markdown",
      "metadata": {
        "id": "8UHlCJhXWWwJ"
      },
      "source": [
        "When you encounter a line that starts with \"X-DSPAM-Confidence:\" pull apart the line to extract the floating-point number on the line. Count these lines and then compute the total of the spam confidence values from these lines. When you reach the end of the file, print out the average spam confidence."
      ]
    },
    {
      "cell_type": "raw",
      "metadata": {
        "id": "85dTrqg1WWwJ"
      },
      "source": [
        "Enter the file name: mbox.txt\n",
        "Average spam confidence: 0.894128046745\n",
        "\n",
        "Enter the file name: mbox-short.txt\n",
        "Average spam confidence: 0.750718518519"
      ]
    },
    {
      "cell_type": "markdown",
      "metadata": {
        "id": "t2ZVhk3wWWwJ"
      },
      "source": [
        "<a id='chapter8'></a>"
      ]
    },
    {
      "cell_type": "markdown",
      "metadata": {
        "id": "2iNVxvtGWWwJ"
      },
      "source": [
        "[TABLE OF CONTENTS](#contents)"
      ]
    }
  ],
  "metadata": {
    "hide_input": false,
    "kernelspec": {
      "display_name": "Python 3 (ipykernel)",
      "language": "python",
      "name": "python3"
    },
    "language_info": {
      "codemirror_mode": {
        "name": "ipython",
        "version": 3
      },
      "file_extension": ".py",
      "mimetype": "text/x-python",
      "name": "python",
      "nbconvert_exporter": "python",
      "pygments_lexer": "ipython3",
      "version": "3.11.5"
    },
    "colab": {
      "provenance": [],
      "include_colab_link": true
    }
  },
  "nbformat": 4,
  "nbformat_minor": 0
}