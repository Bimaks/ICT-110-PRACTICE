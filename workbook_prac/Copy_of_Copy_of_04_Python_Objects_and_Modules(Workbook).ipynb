{
  "cells": [
    {
      "cell_type": "markdown",
      "metadata": {
        "id": "view-in-github",
        "colab_type": "text"
      },
      "source": [
        "<a href=\"https://colab.research.google.com/github/Bimaks/ICT-110-PRACTICE/blob/master/workbook_prac/Copy_of_Copy_of_04_Python_Objects_and_Modules(Workbook).ipynb\" target=\"_parent\"><img src=\"https://colab.research.google.com/assets/colab-badge.svg\" alt=\"Open In Colab\"/></a>"
      ]
    },
    {
      "cell_type": "markdown",
      "metadata": {
        "id": "FtVCL_SDnO3k"
      },
      "source": [
        "# PYTHON MODULES & OBJECTS\n",
        "\n",
        "[CC BY 4.0](https://creativecommons.org/licenses/by/4.0/)"
      ]
    },
    {
      "cell_type": "markdown",
      "metadata": {
        "id": "yMB5hg10nO3m"
      },
      "source": [
        "# Before you begin\n",
        "\n",
        "First, make a copy of this notebook so that you can make changes as you please. Run and edit the copy instead of this original notebook. To copy this notebook, go to `File|Make a Copy`.\n",
        "\n",
        "If this notebook is already a copy of the original, clear all outputs in this notebook. Go to the Menu and click on `Cell| All Outputs| Clear`. Once this is done, you're ready to go.\n",
        "\n",
        "[あ]"
      ]
    },
    {
      "cell_type": "markdown",
      "metadata": {
        "id": "zMaMnLH_nO3m"
      },
      "source": [
        "# Suggestions for Learning\n",
        "\n",
        "- Code snippets in Raw Cells are meant to be written by Beginners.\n",
        "- Code snippets in Code Cells are for illustration purposes. They are meant to be executed by both Beginners and more experienced Learners. (Beginners, may wish to also type them, if they so choose).\n",
        "\n",
        "For better learning experience, the following are suggested:\n",
        "\n",
        "### For Beginners\n",
        "1. Create a new Code Cell below the code snippets inside Raw Cells (Insert Cell below then convert the cell type to Code Cell).\n",
        "2. Go to your newly-created Code Cell and re-type what you see in the code snippet (don't copy-paste)\n",
        "3. Execute (and experiment) on the Code Cell.\n",
        "4. Remember to learn by doing (not just by reading or seeing)\n",
        "\n",
        "### For Coders\n",
        "1. If you are not yet familiar with the concept, follow Steps 1&2 of the Instructions for Beginners\n",
        "2. If you are already familiar with the concept being presented, convert the Raw Cell into a Code Cell.\n",
        "3. Execute (and experiment) on the Code Cell.\n",
        "4. Learn the \"adjacent concepts\", e.g. read related documentation.\n",
        "5. Help your classmates, because teaching is a wonderful way to learn.\n",
        "\n",
        "### For All\n",
        "* Make this your personal notebook.\n",
        "    * Add your own text annotations in Markup Cells.\n",
        "    * Add comments to parts of code that you find difficult to understand\n",
        "    * Breakdown difficult code into several small pieces (maybe, several Code Cells) that are easier to understand\n",
        "    \n",
        "[あ]"
      ]
    },
    {
      "cell_type": "markdown",
      "metadata": {
        "id": "VO4X9dt9nO3n"
      },
      "source": [
        "<a id='contents'></a>"
      ]
    },
    {
      "cell_type": "markdown",
      "metadata": {
        "id": "nz6sIItmnO3n"
      },
      "source": [
        "# TABLE OF CONTENTS"
      ]
    },
    {
      "cell_type": "markdown",
      "metadata": {
        "id": "A6ThOrSEnO3n"
      },
      "source": [
        "[Python Modules](#modules)<br>\n",
        "[Python Objects](#objects)<br>"
      ]
    },
    {
      "cell_type": "markdown",
      "metadata": {
        "id": "jxpmVuTYnO3n"
      },
      "source": [
        "<a id='modules'></a>\n",
        "\n",
        "# PYTHON MODULES"
      ]
    },
    {
      "cell_type": "markdown",
      "metadata": {
        "id": "sU3OJMnHnO3n"
      },
      "source": [
        "### Credits\n",
        "\n",
        "The outline for this section is based on:\n",
        "[How to Think Like a Computer\n",
        "Scientist: 3rd Edition (Using Python 3.x)](https://howtothink.readthedocs.io/en/latest/) by  Jeffrey Elkner, Peter Wentworth, Allen B. Downey, and Chris Meyers.\n",
        "\n",
        "The text and code in the first part of this section are by Antonio C. Briza (also marked by [あ]).\n",
        "\n",
        "Text and code starting from the subsection [Namespaces](#namespaces) are from the aforementioned source (also indicated by `[TCS]`)."
      ]
    },
    {
      "cell_type": "markdown",
      "metadata": {
        "id": "R9ppuPQ5nO3n"
      },
      "source": [
        "## Modules\n",
        "[あ]"
      ]
    },
    {
      "cell_type": "markdown",
      "metadata": {
        "id": "pBWLbVtenO3n"
      },
      "source": [
        "A **module** is a file containing Python **definitions** and **statements** intended for use in other Python programs. There are many Python modules that come with Python as part of the standard library. [TCS]"
      ]
    },
    {
      "cell_type": "markdown",
      "metadata": {
        "id": "DJCJo6GenO3n"
      },
      "source": [
        "- Examples of modules from the standard library are `str`, `list`, `tuple`, `dict`.\n",
        "- Modules can contain functions, variables, constants"
      ]
    },
    {
      "cell_type": "raw",
      "metadata": {
        "id": "wbogpHNKnO3o"
      },
      "source": [
        "my_str = str()\n",
        "print(my_str)\n",
        "print('start>' + my_str + '<end')"
      ]
    },
    {
      "cell_type": "raw",
      "metadata": {
        "id": "-d25HEj8nO3o"
      },
      "source": [
        "my_list = list()\n",
        "print(my_list)"
      ]
    },
    {
      "cell_type": "markdown",
      "metadata": {
        "id": "htAcT_-anO3o"
      },
      "source": [
        "## An example: The `math`  module\n",
        "[あ]"
      ]
    },
    {
      "cell_type": "markdown",
      "metadata": {
        "id": "bJldhq8cnO3o"
      },
      "source": [
        "The **math** module contains a collection of functions and constants grouped together.  [TCS]\n",
        "\n",
        "In order to use a module, you have to **import** it in your program or script.  "
      ]
    },
    {
      "cell_type": "raw",
      "metadata": {
        "id": "C01GCWHunO3o"
      },
      "source": [
        "import math"
      ]
    },
    {
      "cell_type": "markdown",
      "metadata": {
        "id": "FbA8qzrDnO3o"
      },
      "source": [
        "We can check on what is on this module does by passing its name to the **help()** function:"
      ]
    },
    {
      "cell_type": "raw",
      "metadata": {
        "id": "CiMTLkJXnO3o"
      },
      "source": [
        "help(math)"
      ]
    },
    {
      "cell_type": "markdown",
      "metadata": {
        "id": "7KU8jo2anO3o"
      },
      "source": [
        "We can also use the **dir()** function to check its contents:"
      ]
    },
    {
      "cell_type": "raw",
      "metadata": {
        "id": "5boCjiQwnO3o"
      },
      "source": [
        "print(dir(math))"
      ]
    },
    {
      "cell_type": "markdown",
      "metadata": {
        "id": "eeQoGepbnO3o"
      },
      "source": [
        "To access a function or variable in the module:\n",
        "- type the module name...\n",
        "- followed by the **dot** (`.`) operator...\n",
        "- followed by the function call or variable name you want to use"
      ]
    },
    {
      "cell_type": "raw",
      "metadata": {
        "id": "kR1YPdldnO3o"
      },
      "source": [
        "math.pi # pi constant"
      ]
    },
    {
      "cell_type": "raw",
      "metadata": {
        "id": "yu_8EWOdnO3o"
      },
      "source": [
        "math.e # base of natural logarithm"
      ]
    },
    {
      "cell_type": "raw",
      "metadata": {
        "id": "rWnwcM6DnO3o"
      },
      "source": [
        "math.sqrt(2.0) # Square root function"
      ]
    },
    {
      "cell_type": "raw",
      "metadata": {
        "id": "fRMuRRlmnO3o"
      },
      "source": [
        "math.sin(math.pi/2) # Sine function\n",
        "# angles are expressed in radians rather than degrees"
      ]
    },
    {
      "cell_type": "markdown",
      "metadata": {
        "id": "4bwXNMXcnO3o"
      },
      "source": [
        "## Creating your own modules\n",
        "\n",
        "[あ]"
      ]
    },
    {
      "cell_type": "markdown",
      "metadata": {
        "id": "o42afye8nO3o"
      },
      "source": [
        "All we need to do to create our own modules is to save our script as a file with a `.py` extension. [TCS]"
      ]
    },
    {
      "cell_type": "markdown",
      "metadata": {
        "id": "KBHYClxWnO3p"
      },
      "source": [
        "The code below defines a variable and a function."
      ]
    },
    {
      "cell_type": "raw",
      "metadata": {
        "id": "f6BTrbzGnO3p"
      },
      "source": [
        "ring_inventory = list(zip([3, 7, 9, 1],\n",
        "                          ['elven-kings', 'dwarf-lords', 'mortal men', 'Dark Lord']))\n",
        "\n",
        "def maxmin(num_list):\n",
        "    largest_so_far = None\n",
        "    smallest_so_far = None\n",
        "\n",
        "    for the_num in num_list:\n",
        "        if (largest_so_far is None) or (the_num > largest_so_far):\n",
        "            largest_so_far = the_num\n",
        "\n",
        "        if (smallest_so_far is None) or (the_num < smallest_so_far):\n",
        "            smallest_so_far = the_num\n",
        "\n",
        "    return (largest_so_far, smallest_so_far)"
      ]
    },
    {
      "cell_type": "raw",
      "metadata": {
        "id": "R35gR9nVnO3p"
      },
      "source": [
        "ring_inventory"
      ]
    },
    {
      "cell_type": "raw",
      "metadata": {
        "id": "pU4S0EvQnO3p"
      },
      "source": [
        "maxmin([9, 41, 12, 3, 74, 15])"
      ]
    },
    {
      "cell_type": "markdown",
      "metadata": {
        "id": "UarOvyLznO3p"
      },
      "source": [
        "Let's write the code above to a python script `newmodule.py`"
      ]
    },
    {
      "cell_type": "raw",
      "metadata": {
        "id": "XNWveXEknO3p"
      },
      "source": [
        "%%writefile newmodule.py\n",
        "\"\"\"\n",
        "My very own new module\n",
        "\"\"\"\n",
        "\n",
        "ring_inventory = list(zip([3, 7, 9, 1],\n",
        "                          ['elven-kings', 'dwarf-lords', 'mortal men', 'Dark Lord']))\n",
        "\n",
        "def maxmin(num_list):\n",
        "    \"\"\"\n",
        "    Parameter: A list of numbers\n",
        "    Returns: maximum and minimun values in the list\n",
        "    \"\"\"\n",
        "\n",
        "    largest_so_far = None\n",
        "    smallest_so_far = None\n",
        "\n",
        "    for the_num in num_list:\n",
        "        if (largest_so_far is None) or (the_num > largest_so_far):\n",
        "            largest_so_far = the_num\n",
        "\n",
        "        if (smallest_so_far is None) or (the_num < smallest_so_far):\n",
        "            smallest_so_far = the_num\n",
        "\n",
        "    return (largest_so_far, smallest_so_far)"
      ]
    },
    {
      "cell_type": "markdown",
      "metadata": {
        "id": "SMBgFga2nO3p"
      },
      "source": [
        "If you're using Linux or Mac, check if the file was written by running the following terminal command:"
      ]
    },
    {
      "cell_type": "raw",
      "metadata": {
        "id": "sqqY2LO5nO3p"
      },
      "source": [
        "!ls -l newmodule.py"
      ]
    },
    {
      "cell_type": "markdown",
      "metadata": {
        "id": "t4hQRoJ0nO3p"
      },
      "source": [
        "If you're using Windows, run the following terminal command:"
      ]
    },
    {
      "cell_type": "raw",
      "metadata": {
        "id": "VaPQ_GP5nO3p"
      },
      "source": [
        "!dir newmodule.py"
      ]
    },
    {
      "cell_type": "markdown",
      "metadata": {
        "id": "Qh9ILo9EnO3p"
      },
      "source": [
        "Let's import `newmodule`"
      ]
    },
    {
      "cell_type": "raw",
      "metadata": {
        "id": "MOZ58BmunO3p"
      },
      "source": [
        "import newmodule"
      ]
    },
    {
      "cell_type": "markdown",
      "metadata": {
        "id": "W77xbj-znO3q"
      },
      "source": [
        "Now we can use the functions and variables in the module."
      ]
    },
    {
      "cell_type": "raw",
      "metadata": {
        "id": "AvzNZe7YnO3q"
      },
      "source": [
        "newmodule.maxmin([9, 41, 12, 3, 74, 15])"
      ]
    },
    {
      "cell_type": "raw",
      "metadata": {
        "id": "8Tui0t28nO3q"
      },
      "source": [
        "newmodule.ring_inventory"
      ]
    },
    {
      "cell_type": "markdown",
      "metadata": {
        "id": "KgG27U8LnO3q"
      },
      "source": [
        "To double check, we can remove from \"Python's memory\" the variable `maxmin` and function `ring_inventory` that we have earlier defined using the `del` command."
      ]
    },
    {
      "cell_type": "raw",
      "metadata": {
        "id": "0HN9XoLYnO3q"
      },
      "source": [
        "del maxmin\n",
        "del ring_inventory"
      ]
    },
    {
      "cell_type": "markdown",
      "metadata": {
        "id": "cERzElHdnO3q"
      },
      "source": [
        "Note that below, we can no longer access `ring_inventory."
      ]
    },
    {
      "cell_type": "raw",
      "metadata": {
        "id": "SAu-OQEHnO3q"
      },
      "source": [
        "ring_inventory"
      ]
    },
    {
      "cell_type": "markdown",
      "metadata": {
        "id": "2aC0pfTanO3q"
      },
      "source": [
        "However, we can access `newmodule.ring_inventory` since we have already imported `newmodule`."
      ]
    },
    {
      "cell_type": "raw",
      "metadata": {
        "scrolled": true,
        "id": "_deI129fnO3q"
      },
      "source": [
        "newmodule.ring_inventory"
      ]
    },
    {
      "cell_type": "markdown",
      "metadata": {
        "id": "Ab9_7oNGnO3r"
      },
      "source": [
        "As well as `newmodule.maxmin`:"
      ]
    },
    {
      "cell_type": "raw",
      "metadata": {
        "id": "SNlG97wonO3r"
      },
      "source": [
        "newmodule.maxmin([1, 3, 5, 7, 9, 11])"
      ]
    },
    {
      "cell_type": "markdown",
      "metadata": {
        "id": "F61aYHsJnO3r"
      },
      "source": [
        "#### Side Note:  Docstrings\n",
        "[あ]"
      ]
    },
    {
      "cell_type": "markdown",
      "metadata": {
        "id": "NQMSz7_MnO3r"
      },
      "source": [
        "You can provide help information on the modules and functions that you create (e.g. how to use them, parameters, return values, etc.).  This help information is called the **docstring** of the module or function. Docstrings are created by surrounding text with triple double quotes.\n",
        "\n",
        "We can print the **docstring** of a python module or function by passign their name to `help()`."
      ]
    },
    {
      "cell_type": "raw",
      "metadata": {
        "id": "OfcQMcwinO3r"
      },
      "source": [
        "help(newmodule)"
      ]
    },
    {
      "cell_type": "markdown",
      "metadata": {
        "id": "N2ImnWpqnO3r"
      },
      "source": [
        "We can also get the docstring for a specific funtion"
      ]
    },
    {
      "cell_type": "raw",
      "metadata": {
        "id": "3U04tJ-pnO3r"
      },
      "source": [
        "help(newmodule.maxmin)"
      ]
    },
    {
      "cell_type": "markdown",
      "metadata": {
        "id": "GSPy2NhrnO3r"
      },
      "source": [
        "<a id='namespaces'></a>\n",
        "## Namespaces\n",
        "\n",
        "This entire section is from [TCS]"
      ]
    },
    {
      "cell_type": "markdown",
      "metadata": {
        "id": "2p0CNhK5nO3r"
      },
      "source": [
        "A namespace is a collection of identifiers that belong to a module, or to a function, (and as we will see soon, in classes too). Generally, we like a namespace to hold “related” things, e.g. all the math functions, or all the typical things we’d do with random numbers."
      ]
    },
    {
      "cell_type": "markdown",
      "metadata": {
        "id": "pNdZlUHGnO3r"
      },
      "source": [
        "Each module has its own namespace, so we can use the same identifier name in multiple modules without causing an identification problem."
      ]
    },
    {
      "cell_type": "raw",
      "metadata": {
        "id": "i065O_O_nO3r"
      },
      "source": [
        "%%writefile module1.py\n",
        "\n",
        "question = \"What is the meaning of Life, the Universe, and Everything?\"\n",
        "answer = 42"
      ]
    },
    {
      "cell_type": "raw",
      "metadata": {
        "id": "eZURwljgnO3r"
      },
      "source": [
        "%%writefile module2.py\n",
        "\n",
        "question = \"What is your quest?\"\n",
        "answer = \"To seek the holy grail.\""
      ]
    },
    {
      "cell_type": "raw",
      "metadata": {
        "id": "y-gEZPRtnO3r"
      },
      "source": [
        "import module1\n",
        "import module2\n",
        "\n",
        "print(module1.question)\n",
        "print(module2.question)\n",
        "print(module1.answer)\n",
        "print(module2.answer)"
      ]
    },
    {
      "cell_type": "markdown",
      "metadata": {
        "id": "7TAPbgxcnO3r"
      },
      "source": [
        "Functions also have their own namespaces:"
      ]
    },
    {
      "cell_type": "raw",
      "metadata": {
        "id": "wPwCV334nO3r"
      },
      "source": [
        "def f():\n",
        "    n = 7\n",
        "    print(\"printing n inside of f:\", n)\n",
        "\n",
        "def g():\n",
        "    n = 42\n",
        "    print(\"printing n inside of g:\", n)\n",
        "\n",
        "n = 11\n",
        "print(\"printing n before calling f:\", n)\n",
        "f()\n",
        "print(\"printing n after calling f:\", n)\n",
        "g()\n",
        "print(\"printing n after calling g:\", n)"
      ]
    },
    {
      "cell_type": "markdown",
      "metadata": {
        "id": "qTyPkET2nO3s"
      },
      "source": [
        "The three n’s here do not collide since they are each in a different namespace — they are three names for three different variables, just like there might be three different instances of people, all called “Bruce”.\n",
        "\n",
        "Namespaces permit several programmers to work on the same project without having naming collisions."
      ]
    },
    {
      "cell_type": "markdown",
      "metadata": {
        "id": "xFeooUdQnO3s"
      },
      "source": [
        "### Scope and lookup rules\n",
        "\n",
        "The **scope** of an identifier is the region of program code in which the identifier can be accessed, or used.\n",
        "\n",
        "There are three important scopes in Python:\n",
        "\n",
        "- **Local scope** refers to identifiers declared within a function. These identifiers are kept in the namespace that belongs to the function, and each function has its own namespace.\n",
        "- **Global scope** refers to all the identifiers declared within the current module, or file.\n",
        "- **Built-in scope** refers to all the identifiers built into Python — those like range and min that can be used without having to import anything, and are (almost) always available.\n"
      ]
    },
    {
      "cell_type": "markdown",
      "metadata": {
        "id": "XDkowwYUnO3s"
      },
      "source": [
        "## Three import statement variants\n",
        "\n",
        "This entire section is from [TCS]"
      ]
    },
    {
      "cell_type": "markdown",
      "metadata": {
        "id": "A4NSoGg3nO3s"
      },
      "source": [
        "Here are three different ways to import names into the current namespace, and to use them:"
      ]
    },
    {
      "cell_type": "raw",
      "metadata": {
        "id": "r1f9A_ygnO3s"
      },
      "source": [
        "import math\n",
        "math.sqrt(10)"
      ]
    },
    {
      "cell_type": "markdown",
      "metadata": {
        "id": "R7NY8CUNnO3s"
      },
      "source": [
        "Here just the single identifier math is added to the current namespace. If you want to access one of the functions in the module, you need to use the dot notation to get to it."
      ]
    },
    {
      "cell_type": "raw",
      "metadata": {
        "id": "S-GIxlYTnO3s"
      },
      "source": [
        "from math import cos, sin, sqrt\n",
        "sqrt(10)"
      ]
    },
    {
      "cell_type": "markdown",
      "metadata": {
        "id": "B73dBD6mnO3s"
      },
      "source": [
        "The names are added directly to the current namespace, and can be used without qualification. The name `math` is not itself imported, so trying to use the qualified form `math.sqrt` would give an error.\n",
        "\n",
        "Then we have a convenient shorthand:"
      ]
    },
    {
      "cell_type": "raw",
      "metadata": {
        "id": "mHuWqtu9nO3t"
      },
      "source": [
        "from math import *   # Import all the identifiers from math,\n",
        "                     #   adding them to the current namespace.\n",
        "sqrt(10)             # Use them without qualification."
      ]
    },
    {
      "cell_type": "markdown",
      "metadata": {
        "id": "ag1Vc2mXnO3t"
      },
      "source": [
        "Of these three, the first method is generally preferred, even though it means a little more typing each time. Although, we can make things shorter by importing a module under a different name:"
      ]
    },
    {
      "cell_type": "raw",
      "metadata": {
        "id": "mSGHgUHjnO3t"
      },
      "source": [
        "import math as m\n",
        "m.pi"
      ]
    },
    {
      "cell_type": "markdown",
      "metadata": {
        "id": "FL3h7BLznO3t"
      },
      "source": [
        "There are conventional nicknames for common modules that we will use later in the course:\n",
        "```python\n",
        "import numpy as np\n",
        "import pandas as pd\n",
        "import matplotlib.pyplot as plt\n",
        "```\n",
        "\n",
        "[あ]"
      ]
    },
    {
      "cell_type": "markdown",
      "metadata": {
        "id": "bOXBdCOAnO3t"
      },
      "source": [
        "## Final Words"
      ]
    },
    {
      "cell_type": "markdown",
      "metadata": {
        "id": "qYA_JzVwnO3t"
      },
      "source": [
        "Understanding how to use modules can help you...\n",
        "- breakdown a big project into manageable pieces of related code\n",
        "- take advantage of the wide array of python modules that could be used for various applications\n",
        "\n",
        "[あ]"
      ]
    },
    {
      "cell_type": "markdown",
      "metadata": {
        "id": "1lmeCkZrnO3u"
      },
      "source": [
        "## REVIEW QUESTIONS"
      ]
    },
    {
      "cell_type": "markdown",
      "metadata": {
        "id": "zyTazmyMnO3u"
      },
      "source": [
        "- Explain the advantages of writing your own modules\n",
        "- What is the preferred way of importing a module in Python?\n",
        "- How do you get help on a function in a module?\n",
        "- Explain why and how 2 modules with the same function name can concurrently be used in the same Python script\n",
        "\n",
        "[あ]"
      ]
    },
    {
      "cell_type": "markdown",
      "metadata": {
        "id": "_C-b2RBmnO3u"
      },
      "source": [
        "## EXERCISES"
      ]
    },
    {
      "cell_type": "markdown",
      "metadata": {
        "id": "RyssbgkYnO3u"
      },
      "source": [
        "#### Exercise 1\n",
        "Adapted from [TCS] Appendix D, Exercise 2\n",
        "\n",
        "Open help for the math module.\n",
        "\n",
        "- What are the constants in the math module?\n",
        "- What's does `math.exp` do? What about `math.pow`?  \n",
        "- How do you calculate logarithms? Logarithms base 10? Natural Logarithms?\n"
      ]
    },
    {
      "cell_type": "markdown",
      "metadata": {
        "id": "w9QMo0E5nO3u"
      },
      "source": [
        "#### Exercise 2\n",
        "- Create your own module.\n",
        "- Place variables and functions inside it.\n",
        "- Import your module and use the variabls and functions you've created in the module.\n",
        "- Try to add docstrings for the module and the functions\n",
        "\n",
        "[あ]\n"
      ]
    },
    {
      "cell_type": "markdown",
      "metadata": {
        "id": "GtWfcty2nO3u"
      },
      "source": [
        "\n",
        "[TABLE OF CONTENTS](#contents)"
      ]
    },
    {
      "cell_type": "markdown",
      "metadata": {
        "id": "G4rXqWUCnO3u"
      },
      "source": [
        "<a id='objects'></a>\n",
        "\n",
        "# PYTHON OBJECTS"
      ]
    },
    {
      "cell_type": "markdown",
      "metadata": {
        "id": "L0ZgpPZXnO3v"
      },
      "source": [
        "### Credits\n",
        "\n",
        "For this section, the following are the sources of  code snippets and explanatory texts:\n",
        "\n",
        "- [How to Think Like a Computer\n",
        "Scientist: 3rd Edition (Using Python 3.x)](https://howtothink.readthedocs.io/en/latest/) by  Jeffrey Elkner, Peter Wentworth, Allen B. Downey, and Chris Meyers.\n",
        "  - Notes and codes from this source are indicated by this the marker `[TCS]`\n",
        "\n",
        "- [Python for Everybody - Online HTML Book](https://www.py4e.com/html3/) by Charles Russel Severance.\n",
        "  - Notes and codes from this source are indicated by this the marker `[PEW]`\n",
        "\n",
        "\n",
        "Additional codes and comments from:\n",
        "\n",
        "- Antonio C. Briza\n",
        "  - code cells marked by `#あ` at the first or last line\n",
        "  - markdown and raw cells marked by `[あ]` at the end"
      ]
    },
    {
      "cell_type": "markdown",
      "metadata": {
        "id": "zua3QFVxnO3v"
      },
      "source": [
        "## Object Oriented Programming (OOP): Quick Explanation\n",
        "\n",
        "Up to now, most of the programs we have been writing use a procedural **programming paradigm**. In procedural programming the focus is on **writing functions** or procedures which operate on data. In **object-oriented programming** the focus is on the **creation of objects** which contain **both data and functionality together**.\n",
        "    \n",
        "- **programming paradigm** focus is on **writing functions**\n",
        "    - **functions** operate on data\n",
        "- **object-oriented programming**  focus is on the creation of **objects**\n",
        "    - objects contain both **data** and **functionality** together.\n",
        "    \n",
        "[TCS]\n"
      ]
    },
    {
      "cell_type": "markdown",
      "metadata": {
        "id": "RQmqXMD6nO3v"
      },
      "source": [
        "## OOP Motivation: Managing larger programs\n",
        "\n",
        "At the beginning of this book, we came up with four basic programming patterns which we use to construct programs:\n",
        "\n",
        "- Sequential code\n",
        "- Conditional code (if statements)\n",
        "- Repetitive code (loops)\n",
        "- Store and reuse (functions)\n",
        "\n",
        "In later chapters, we explored simple variables as well as collection data structures like lists, tuples, and dictionaries.\n",
        "\n",
        "As programs get to be millions of lines long, it becomes increasingly important to write code that is **easy to understand**. If you are working on a million-line program, you can never keep the entire program in your mind at the same time. We need ways to **break large programs into multiple smaller pieces** so that we have less to look at when solving a problem, fix a bug, or add a new feature.\n",
        "\n",
        "In a way, object oriented programming is a way to arrange your code so that you can **zoom into 50 lines** of the code and understand it **while ignoring the other 999,950 lines** of code for the moment.\n",
        "\n",
        "[PEW]"
      ]
    },
    {
      "cell_type": "markdown",
      "metadata": {
        "id": "5yotgiSDnO3v"
      },
      "source": [
        "## Key Outcome\n",
        "\n",
        "Like many aspects of programming, it is necessary to learn the concepts of object oriented programming before you can use them effectively. You should approach this chapter as a way to learn some **terms and concepts** and work through a few **simple examples** to lay a foundation for future learning.\n",
        "\n",
        "The key outcome of this chapter is to have a **basic understanding** of **how objects are constructed** and **how they function** and most importantly **how we make use of the capabilities of objects** that are provided to us by Python and Python libraries.\n",
        "\n",
        "[PEW]"
      ]
    },
    {
      "cell_type": "markdown",
      "metadata": {
        "id": "8o1yRA-anO3v"
      },
      "source": [
        "## Object Creation"
      ]
    },
    {
      "cell_type": "markdown",
      "metadata": {
        "id": "JGHd9zmlnO3v"
      },
      "source": [
        "At a basic level, an **object** is simply some code plus data structures that are smaller than a whole program. Defining a function allows us to store a bit of code and give it a name and then later invoke that code using the name of the function.\n",
        "\n",
        "An object can contain a number of functions (which we call **methods**) as well as data that is used by those functions. We call data items that are part of the object **attributes**.\n",
        "\n",
        "We use the **`class`** keyword to define the data and code that will make up each of the objects. The class keyword includes the name of the class and begins an indented block of code where we include the attributes (data) and methods (code).\n",
        "\n",
        "[PEW]"
      ]
    },
    {
      "cell_type": "markdown",
      "metadata": {
        "id": "BtqqHcGSnO3v"
      },
      "source": [
        "We say that an **object** is an **instance** of a **class**. The **class** is like the **blueprint** of a house, the **object** is a **specific house**. Just as there could be several houses made from the same blueprint, there could be several objects created from the same class.\n",
        "\n",
        "[あ]"
      ]
    },
    {
      "cell_type": "markdown",
      "metadata": {
        "id": "Uc3NfUuHnO3v"
      },
      "source": [
        "To illustrate this, we can create a class called `Point`, which has the following components:\n",
        "\n",
        "- data\n",
        "    - `x`: x-coordinate of a point\n",
        "    - `y`: y-coordinate of a point\n",
        "- functions\n",
        "    - `__init__` : Creats a new point\n",
        "    - `distance_from_origin`: Compute my distance from the origin\n",
        "    \n",
        "[あ]"
      ]
    },
    {
      "cell_type": "raw",
      "metadata": {
        "id": "KEO5o2TznO3w"
      },
      "source": [
        "class Point:\n",
        "    \"\"\" Create a new Point, at coordinates x, y \"\"\"\n",
        "\n",
        "    def __init__(self, x=0, y=0):\n",
        "        \"\"\" Create a new point at x, y \"\"\"\n",
        "        self.x = x\n",
        "        self.y = y\n",
        "\n",
        "    def __str__(self):\n",
        "        return \"({0}, {1})\".format(self.x, self.y)\n",
        "\n",
        "    def distance_from_origin(self):\n",
        "        \"\"\" Compute my distance from the origin \"\"\"\n",
        "        return ((self.x ** 2) + (self.y ** 2)) ** 0.5\n",
        "\n",
        "#TCS"
      ]
    },
    {
      "cell_type": "markdown",
      "metadata": {
        "id": "rURZUshQnO3w"
      },
      "source": [
        "Let's breakdown the `class` definition by line\n",
        "- Line 1\n",
        "    - We define a new class named `Point`\n",
        "- Line 4\n",
        "    - `__init__`  is a special method. If a method named `__init__` is defined in a class, Python automatically runs that method upon  object creation. Defining an `__init__` method provides an opportunity to initiate variables in the object that will be created.\n",
        "    - `self` is a special parameter. It is the specific object (or the instance) that was created from the class.  Using the `self` parameter makes it clear that you are refering to an instance variable instead of a local variable.\n",
        "- Line 6\n",
        "    - We set the value of the object's `x` attribute (a variable inside a class) to the `x` parameter of the function `__init__`\n",
        "- Line 7\n",
        "    - We set the value of the object's `y` attribute (a variable inside a class) to the `y` parameter of the function `__init__`\n",
        "- Line 9\n",
        "    - `__str__`  is a special method. If a method named `__str__` is defined in a class, Python executes that method whenever a string equivalent of the object is called for (e.g. in a `print` command or a `str` type conversion).\n",
        "- Lines 12-14\n",
        "    - We define a method (a function inside a class) called `distance_from_origin`. Again, the parameter `self` refers to the specific object that was created from the class.\n",
        "\n",
        "[あ]"
      ]
    },
    {
      "cell_type": "markdown",
      "metadata": {
        "id": "JqdZQwcHnO3w"
      },
      "source": [
        "Let’s create a few `Point` instances, look at their attributes, and call our new method on them.[TCS]"
      ]
    },
    {
      "cell_type": "raw",
      "metadata": {
        "id": "qSRvaf4ynO3w"
      },
      "source": [
        "p = Point(3, 4)\n",
        "p.x, p.y"
      ]
    },
    {
      "cell_type": "raw",
      "metadata": {
        "id": "A5jR4kOInO3w"
      },
      "source": [
        "print(p)"
      ]
    },
    {
      "cell_type": "raw",
      "metadata": {
        "id": "9cfED0n9nO3x"
      },
      "source": [
        "p.distance_from_origin()"
      ]
    },
    {
      "cell_type": "raw",
      "metadata": {
        "id": "hVy5blFBnO3x"
      },
      "source": [
        "q = Point(5, 12)\n",
        "str(q)"
      ]
    },
    {
      "cell_type": "raw",
      "metadata": {
        "id": "M1Igb4R2nO3x"
      },
      "source": [
        "q.distance_from_origin()"
      ]
    },
    {
      "cell_type": "markdown",
      "metadata": {
        "id": "OC_oNfUDnO3x"
      },
      "source": [
        "### Question: Why not just define a tuple (x,y) instead of a `Point` class?"
      ]
    },
    {
      "cell_type": "markdown",
      "metadata": {
        "id": "CPyNAo-8nO3x"
      },
      "source": [
        "We can add methods to the `Point` class that are **sensible operations** for points, but which may not be appropriate for other tuples like `(25, 12)` which might represent, say, a day and a month, e.g. Christmas day. So being able to calculate the distance from the origin is sensible for points, but not for (day, month) data. For (day, month) data, we’d like different operations, perhaps to find what day of the week it will fall on in 2020.\n",
        "\n",
        "Creating a class like `Point` brings an exceptional amount of **organizational power** to our programs, and to our thinking. We can group together the sensible operations, and the kinds of data they apply to, and **each instance of the class can have its own state**.\n",
        "\n",
        "[TCS]"
      ]
    },
    {
      "cell_type": "markdown",
      "metadata": {
        "id": "QPhX1RVznO3x"
      },
      "source": [
        "For instance, we can add a new method called `halfway` which can return another `Point` object [あ]"
      ]
    },
    {
      "cell_type": "raw",
      "metadata": {
        "id": "jbWdQJdnnO3x"
      },
      "source": [
        "class Point:\n",
        "    \"\"\" Create a new Point, at coordinates x, y \"\"\"\n",
        "\n",
        "    def __init__(self, x=0, y=0):\n",
        "        \"\"\" Create a new point at x, y \"\"\"\n",
        "        self.x = x\n",
        "        self.y = y\n",
        "\n",
        "    def __str__(self):    #\n",
        "        return \"({0}, {1})\".format(self.x, self.y)\n",
        "\n",
        "    def distance_from_origin(self):\n",
        "        \"\"\" Compute my distance from the origin \"\"\"\n",
        "        return ((self.x ** 2) + (self.y ** 2)) ** 0.5\n",
        "\n",
        "    def halfway(self, target):\n",
        "        \"\"\" Return the halfway point between myself and the target \"\"\"\n",
        "        mx = (self.x + target.x)/2\n",
        "        my = (self.y + target.y)/2\n",
        "        return Point(mx, my)\n",
        "\n",
        "#TCS"
      ]
    },
    {
      "cell_type": "raw",
      "metadata": {
        "id": "NYl3Ze34nO3y"
      },
      "source": [
        "p = Point(3,4)\n",
        "q = Point(5,12)\n",
        "r = p.halfway(q)\n",
        "print(p)\n",
        "print(q)\n",
        "print(r)\n",
        "\n",
        "#TCS"
      ]
    },
    {
      "cell_type": "markdown",
      "metadata": {
        "id": "ggqJjvNWnO3y"
      },
      "source": [
        "## Objects can have state"
      ]
    },
    {
      "cell_type": "markdown",
      "metadata": {
        "id": "N0f6qj8jnO3y"
      },
      "source": [
        "Objects are most useful when we also need to keep some state that is updated from time to time. Consider a bank account object, a main component of the state would be the current balance, and perhaps a log of all transactions. The methods would allow us to query the current balance, deposit new funds, or make a payment. Making a payment would include an amount, and a description, so that this could be added to the transaction log. We’d also want a method to show the transaction log.\n",
        "\n",
        "[TCS]"
      ]
    },
    {
      "cell_type": "markdown",
      "metadata": {
        "id": "c0vd8xPdnO3y"
      },
      "source": [
        "The fact that objects can have a state is its main advantage over using modules with variables and functions.  Importing a variable only gives you one \"copy\" of the variables and functions in that module, whereas you could maintain without interference hundreds of objects which are all created from the same class.\n",
        "\n",
        "[あ]"
      ]
    },
    {
      "cell_type": "markdown",
      "metadata": {
        "id": "tCiZPqw0nO3y"
      },
      "source": [
        "## Final Words"
      ]
    },
    {
      "cell_type": "markdown",
      "metadata": {
        "id": "kc6SdPC3nO3y"
      },
      "source": [
        "This is just a quick introduction to Object Oriented Programming.\n",
        "\n",
        "The goal of the section is more to familiarize you to OOP concepts and capabitilies so that you could be more equipped to handle different Python modules, most of which are based on the OOP paradigm.\n",
        "\n",
        "Students are encouraged to read more on advanced OOP topics using [How to Think Like a Computer\n",
        "Scientist: 3rd Edition (Using Python 3.x)](https://howtothink.readthedocs.io/en/latest/) by Jeffrey Elkner, Peter Wentworth, Allen B. Downey, and Chris Meyers..\n",
        "\n",
        "[あ]"
      ]
    },
    {
      "cell_type": "markdown",
      "metadata": {
        "id": "w89Ao9C1nO3y"
      },
      "source": [
        "## REVIEW"
      ]
    },
    {
      "cell_type": "markdown",
      "metadata": {
        "id": "ya0i7S-ZnO3z"
      },
      "source": [
        "1.  Make sure you are familiar with the meaning of the following terms (and the difference among some of them)\n",
        "    - class vs. object vs. instance\n",
        "    - method vs. function\n",
        "    - attribute vs. variable\n",
        "\n",
        "\n",
        "2. Explain the difference in focus and approach of procedural and OOP paradigms\n",
        "\n",
        "\n",
        "3. Explain the advantage of using a class over using modules which only contain a collection of data and functions\n",
        "\n",
        "\n",
        "[あ]"
      ]
    },
    {
      "cell_type": "markdown",
      "metadata": {
        "id": "dEO5YrolnO3z"
      },
      "source": [
        "[TABLE OF CONTENTS](#contents)"
      ]
    }
  ],
  "metadata": {
    "hide_input": false,
    "kernelspec": {
      "display_name": "Python 3 (ipykernel)",
      "language": "python",
      "name": "python3"
    },
    "language_info": {
      "codemirror_mode": {
        "name": "ipython",
        "version": 3
      },
      "file_extension": ".py",
      "mimetype": "text/x-python",
      "name": "python",
      "nbconvert_exporter": "python",
      "pygments_lexer": "ipython3",
      "version": "3.9.5"
    },
    "colab": {
      "provenance": [],
      "include_colab_link": true
    }
  },
  "nbformat": 4,
  "nbformat_minor": 0
}